{
  "nbformat": 4,
  "nbformat_minor": 0,
  "metadata": {
    "colab": {
      "provenance": [],
      "authorship_tag": "ABX9TyNExTgAgiUS6pa5bYfQopAl",
      "include_colab_link": true
    },
    "kernelspec": {
      "name": "python3",
      "display_name": "Python 3"
    },
    "language_info": {
      "name": "python"
    }
  },
  "cells": [
    {
      "cell_type": "markdown",
      "metadata": {
        "id": "view-in-github",
        "colab_type": "text"
      },
      "source": [
        "<a href=\"https://colab.research.google.com/github/nguoicatba/ILA/blob/main/Untitled4.ipynb\" target=\"_parent\"><img src=\"https://colab.research.google.com/assets/colab-badge.svg\" alt=\"Open In Colab\"/></a>"
      ]
    },
    {
      "cell_type": "markdown",
      "source": [
        "import libary\n"
      ],
      "metadata": {
        "id": "l6meP31GUlCU"
      }
    },
    {
      "cell_type": "code",
      "execution_count": null,
      "metadata": {
        "id": "1jdPoeZFTqBk"
      },
      "outputs": [],
      "source": [
        "import numpy as np\n",
        "from sklearn.metrics import f1_score"
      ]
    },
    {
      "cell_type": "markdown",
      "source": [
        "f1"
      ],
      "metadata": {
        "id": "gZGwW4SIU3ZZ"
      }
    },
    {
      "cell_type": "code",
      "source": [
        "\n",
        "y_true = [1, 0, 1, 1, 0, 1]   # nhãn thật\n",
        "y_pred = [1, 0, 1, 0, 0, 1]   # nhãn dự đoán\n",
        "\n",
        "f1 = f1_score(y_true, y_pred)\n",
        "print(\"F1-Score:\", f1)"
      ],
      "metadata": {
        "id": "s_6_I3y3U4WC",
        "outputId": "bc1bc532-9c04-4367-f431-76efa83eff1e",
        "colab": {
          "base_uri": "https://localhost:8080/"
        }
      },
      "execution_count": null,
      "outputs": [
        {
          "output_type": "stream",
          "name": "stdout",
          "text": [
            "F1-Score: 0.8571428571428571\n"
          ]
        }
      ]
    }
  ]
}